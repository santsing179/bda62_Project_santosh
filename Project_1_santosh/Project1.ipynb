{
 "cells": [
  {
   "cell_type": "markdown",
   "id": "eb848824-1d8a-402b-91c5-6570b95d6215",
   "metadata": {},
   "source": [
    "Project1_ IMDb Top 250 Movies Reviews"
   ]
  },
  {
   "cell_type": "code",
   "execution_count": 23,
   "id": "f180e7b9-3946-46b8-b76f-c7d8af04bd7a",
   "metadata": {},
   "outputs": [
    {
     "name": "stdout",
     "output_type": "stream",
     "text": [
      "HTML content fetched and saved successfully.\n"
     ]
    }
   ],
   "source": [
    "import requests\n",
    "from bs4 import BeautifulSoup\n",
    "\n",
    "# URL of IMDb Top 250 Movies\n",
    "url = \"https://www.imdb.com/chart/top/?sort=rank%2Casc\"\n",
    "\n",
    "# User-Agent for Microsoft Edge\n",
    "headers = {\n",
    "    \"User-Agent\": \"Mozilla/5.0 (Windows NT 10.0; Win64; x64; rv:91.0) Gecko/20100101 Firefox/91.0 Edg/91.0.864.48\"\n",
    "}\n",
    "\n",
    "# Send a GET request with the headers\n",
    "response = requests.get(url, headers=headers)\n",
    "\n",
    "# Check if the request was successful\n",
    "if response.status_code == 200:\n",
    "    # Parse the HTML content using BeautifulSoup\n",
    "    soup = BeautifulSoup(response.text, 'html.parser')\n",
    "\n",
    "    print(\"HTML content fetched and saved successfully.\")\n",
    "else:\n",
    "    print(f\"Failed to fetch page. Status code: {response.status_code}\")\n"
   ]
  },
  {
   "cell_type": "code",
   "execution_count": 25,
   "id": "18a09566-0062-4f8e-8f77-b660c38d8ff7",
   "metadata": {},
   "outputs": [],
   "source": [
    "\n",
    "# Parse the HTML content of the page using Beautiful Soup\n",
    "soup = BeautifulSoup(response.content, 'html.parser')"
   ]
  },
  {
   "cell_type": "code",
   "execution_count": 27,
   "id": "97aa04ad-cbcb-4018-963f-0001ff14723f",
   "metadata": {},
   "outputs": [
    {
     "data": {
      "text/plain": [
       "<Response [200]>"
      ]
     },
     "execution_count": 27,
     "metadata": {},
     "output_type": "execute_result"
    }
   ],
   "source": [
    "response"
   ]
  },
  {
   "cell_type": "code",
   "execution_count": null,
   "id": "a8e689d0-2833-4644-9718-abc7a9f30e92",
   "metadata": {},
   "outputs": [],
   "source": [
    "Extract Movie Data"
   ]
  },
  {
   "cell_type": "code",
   "execution_count": 29,
   "id": "62416600-15a9-4741-bcde-85508c5f1f2b",
   "metadata": {},
   "outputs": [],
   "source": [
    "# Create empty lists to store movie titles, years, ratings, and URLs\n",
    "titles = []\n",
    "years = []\n",
    "ratings = []"
   ]
  },
  {
   "cell_type": "code",
   "execution_count": 31,
   "id": "f22ef7a4-de8b-4db7-b832-5c34b22336a6",
   "metadata": {},
   "outputs": [
    {
     "data": {
      "text/plain": [
       "[]"
      ]
     },
     "execution_count": 31,
     "metadata": {},
     "output_type": "execute_result"
    }
   ],
   "source": [
    "# Find all the movie items in the HTML\n",
    "movie_items = soup.find_all('item')\n",
    "movie_items"
   ]
  },
  {
   "cell_type": "code",
   "execution_count": 33,
   "id": "e875af9c-4b2b-4958-b3c9-6f47a05f3f72",
   "metadata": {},
   "outputs": [],
   "source": [
    "# Loop through the rows to extract movie information\n",
    "for row in movie_items:\n",
    "    # Extract title\n",
    "    title_column = row.find('td', class_='titleColumn')\n",
    "    if title_column:  # Check if title_column is not None\n",
    "        title = title_column.a.text  # Get the movie title\n",
    "        titles.append(title)  # Append title to the list\n",
    "       # movie_items = soup.find_all('tr')  # or whatever the tag/selector is\n",
    "\n",
    "        # Extract year\n",
    "        year = title_column.span.text.strip('()')  # Remove parentheses\n",
    "        years.append(year)  # Append year to the list\n",
    "\n",
    "        # Extract rating\n",
    "        rating_column = row.find('td', class_='ratingColumn imdbRating')\n",
    "        if rating_column:\n",
    "            rating = rating_column.strong.text  # Get the rating\n",
    "            ratings.append(rating)  # Append rating to the list"
   ]
  },
  {
   "cell_type": "code",
   "execution_count": 35,
   "id": "66eb3d42-8a77-4b75-9eea-d4c64a5c3a84",
   "metadata": {},
   "outputs": [
    {
     "name": "stdout",
     "output_type": "stream",
     "text": [
      "[]\n"
     ]
    }
   ],
   "source": [
    "print(movie_items)"
   ]
  },
  {
   "cell_type": "code",
   "execution_count": 37,
   "id": "cb72c6b6-c031-4afc-91ec-9622f362f1a6",
   "metadata": {},
   "outputs": [
    {
     "name": "stdout",
     "output_type": "stream",
     "text": [
      "Titles: []\n",
      "Years: []\n",
      "Ratings: []\n"
     ]
    }
   ],
   "source": [
    "# Display the first few movie titles, years, and ratings\n",
    "print(\"Titles:\", titles[:5])\n",
    "print(\"Years:\", years[:5])\n",
    "print(\"Ratings:\", ratings[:5])"
   ]
  },
  {
   "cell_type": "code",
   "execution_count": 39,
   "id": "c592ec66-e590-4b64-a5ba-c5520f273fbf",
   "metadata": {},
   "outputs": [],
   "source": [
    "# Find the JSON data in the script tag\n",
    "import json\n",
    "\n",
    "json_data = soup.find('script', type='application/ld+json')"
   ]
  },
  {
   "cell_type": "code",
   "execution_count": 41,
   "id": "361dd1aa-2275-4dfa-8a6e-429c51aa23c5",
   "metadata": {},
   "outputs": [],
   "source": [
    "if json_data:\n",
    "    # Parse the JSON data\n",
    "    data = json.loads(json_data.string)"
   ]
  },
  {
   "cell_type": "code",
   "execution_count": 43,
   "id": "a6d3874f-2e8e-4c3a-8efa-dddf2111f30c",
   "metadata": {},
   "outputs": [],
   "source": [
    "# Extract titles and ratings\n",
    "titles = []\n",
    "urls = []\n",
    "descriptions = []\n",
    "best_ratings = []\n",
    "worst_ratings = []\n",
    "ratings = []\n",
    "genres = []\n",
    "durations = []"
   ]
  },
  {
   "cell_type": "code",
   "execution_count": 45,
   "id": "0a22e969-f45d-47ae-910d-4849dc8ab1ee",
   "metadata": {},
   "outputs": [],
   "source": [
    "# Check if the data contains the expected structure\n",
    "if 'itemListElement' in data:\n",
    "    for item in data['itemListElement']:\n",
    "        movie = item['item']\n",
    "        \n",
    "        # Extract movie details\n",
    "        titles.append(movie['name'])  # Movie name\n",
    "        urls.append(movie['url'])  # Movie URL\n",
    "        descriptions.append(movie['description'])  # Movie description\n",
    "        \n",
    "        # Extract ratings (best, worst, actual rating)\n",
    "        best_ratings.append(movie['aggregateRating']['bestRating'])  # Best rating\n",
    "        worst_ratings.append(movie['aggregateRating']['worstRating'])  # Worst rating\n",
    "        ratings.append(float(movie['aggregateRating']['ratingValue']))  # Rating value\n",
    "        \n",
    "        genres.append(movie['genre'])  # Movie genre\n",
    "        durations.append(movie['duration'])  # Movie duration"
   ]
  },
  {
   "cell_type": "code",
   "execution_count": 47,
   "id": "d4d3c9c4-65da-4e4e-b9ac-a1c7d6b1fe31",
   "metadata": {},
   "outputs": [
    {
     "data": {
      "text/html": [
       "<div>\n",
       "<style scoped>\n",
       "    .dataframe tbody tr th:only-of-type {\n",
       "        vertical-align: middle;\n",
       "    }\n",
       "\n",
       "    .dataframe tbody tr th {\n",
       "        vertical-align: top;\n",
       "    }\n",
       "\n",
       "    .dataframe thead th {\n",
       "        text-align: right;\n",
       "    }\n",
       "</style>\n",
       "<table border=\"1\" class=\"dataframe\">\n",
       "  <thead>\n",
       "    <tr style=\"text-align: right;\">\n",
       "      <th></th>\n",
       "      <th>Title</th>\n",
       "      <th>URL</th>\n",
       "      <th>Description</th>\n",
       "      <th>Best Rating</th>\n",
       "      <th>Worst Rating</th>\n",
       "      <th>Rating</th>\n",
       "      <th>Genre</th>\n",
       "      <th>Duration</th>\n",
       "    </tr>\n",
       "  </thead>\n",
       "  <tbody>\n",
       "    <tr>\n",
       "      <th>0</th>\n",
       "      <td>The Shawshank Redemption</td>\n",
       "      <td>https://www.imdb.com/title/tt0111161/</td>\n",
       "      <td>A banker convicted of uxoricide forms a friend...</td>\n",
       "      <td>10</td>\n",
       "      <td>1</td>\n",
       "      <td>9.3</td>\n",
       "      <td>Drama</td>\n",
       "      <td>PT2H22M</td>\n",
       "    </tr>\n",
       "    <tr>\n",
       "      <th>1</th>\n",
       "      <td>The Godfather</td>\n",
       "      <td>https://www.imdb.com/title/tt0068646/</td>\n",
       "      <td>The aging patriarch of an organized crime dyna...</td>\n",
       "      <td>10</td>\n",
       "      <td>1</td>\n",
       "      <td>9.2</td>\n",
       "      <td>Crime, Drama</td>\n",
       "      <td>PT2H55M</td>\n",
       "    </tr>\n",
       "    <tr>\n",
       "      <th>2</th>\n",
       "      <td>The Dark Knight</td>\n",
       "      <td>https://www.imdb.com/title/tt0468569/</td>\n",
       "      <td>When a menace known as the Joker wreaks havoc ...</td>\n",
       "      <td>10</td>\n",
       "      <td>1</td>\n",
       "      <td>9.0</td>\n",
       "      <td>Action, Crime, Drama</td>\n",
       "      <td>PT2H32M</td>\n",
       "    </tr>\n",
       "    <tr>\n",
       "      <th>3</th>\n",
       "      <td>The Godfather Part II</td>\n",
       "      <td>https://www.imdb.com/title/tt0071562/</td>\n",
       "      <td>The early life and career of Vito Corleone in ...</td>\n",
       "      <td>10</td>\n",
       "      <td>1</td>\n",
       "      <td>9.0</td>\n",
       "      <td>Crime, Drama</td>\n",
       "      <td>PT3H22M</td>\n",
       "    </tr>\n",
       "    <tr>\n",
       "      <th>4</th>\n",
       "      <td>12 Angry Men</td>\n",
       "      <td>https://www.imdb.com/title/tt0050083/</td>\n",
       "      <td>The jury in a New York City murder trial is fr...</td>\n",
       "      <td>10</td>\n",
       "      <td>1</td>\n",
       "      <td>9.0</td>\n",
       "      <td>Crime, Drama</td>\n",
       "      <td>PT1H36M</td>\n",
       "    </tr>\n",
       "  </tbody>\n",
       "</table>\n",
       "</div>"
      ],
      "text/plain": [
       "                      Title                                    URL  \\\n",
       "0  The Shawshank Redemption  https://www.imdb.com/title/tt0111161/   \n",
       "1             The Godfather  https://www.imdb.com/title/tt0068646/   \n",
       "2           The Dark Knight  https://www.imdb.com/title/tt0468569/   \n",
       "3     The Godfather Part II  https://www.imdb.com/title/tt0071562/   \n",
       "4              12 Angry Men  https://www.imdb.com/title/tt0050083/   \n",
       "\n",
       "                                         Description  Best Rating  \\\n",
       "0  A banker convicted of uxoricide forms a friend...           10   \n",
       "1  The aging patriarch of an organized crime dyna...           10   \n",
       "2  When a menace known as the Joker wreaks havoc ...           10   \n",
       "3  The early life and career of Vito Corleone in ...           10   \n",
       "4  The jury in a New York City murder trial is fr...           10   \n",
       "\n",
       "   Worst Rating  Rating                 Genre Duration  \n",
       "0             1     9.3                 Drama  PT2H22M  \n",
       "1             1     9.2          Crime, Drama  PT2H55M  \n",
       "2             1     9.0  Action, Crime, Drama  PT2H32M  \n",
       "3             1     9.0          Crime, Drama  PT3H22M  \n",
       "4             1     9.0          Crime, Drama  PT1H36M  "
      ]
     },
     "execution_count": 47,
     "metadata": {},
     "output_type": "execute_result"
    }
   ],
   "source": [
    "import pandas as pd\n",
    "\n",
    "# Create a DataFrame to store the scraped data\n",
    "df = pd.DataFrame({\n",
    "    'Title': titles,\n",
    "    'URL': urls,\n",
    "    'Description': descriptions,\n",
    "    'Best Rating': best_ratings,\n",
    "    'Worst Rating': worst_ratings,\n",
    "    'Rating': ratings,\n",
    "    'Genre': genres,\n",
    "    'Duration': durations\n",
    "})\n",
    "\n",
    "# Print the first few rows of the DataFrame\n",
    "df.head()"
   ]
  },
  {
   "cell_type": "code",
   "execution_count": 49,
   "id": "83771759-4176-4eb6-a836-da0e2b0df80d",
   "metadata": {},
   "outputs": [
    {
     "name": "stdout",
     "output_type": "stream",
     "text": [
      "Data saved in CSV format'\n"
     ]
    }
   ],
   "source": [
    "# Save the DataFrame to a CSV file\n",
    "df.to_csv('topIMBDmovies.csv', index=False) \n",
    "print(\"Data saved in CSV format'\")"
   ]
  },
  {
   "cell_type": "code",
   "execution_count": null,
   "id": "1c6db320-65af-4ab5-a199-1b42e077aa0f",
   "metadata": {},
   "outputs": [],
   "source": []
  }
 ],
 "metadata": {
  "kernelspec": {
   "display_name": "Python 3 (ipykernel)",
   "language": "python",
   "name": "python3"
  },
  "language_info": {
   "codemirror_mode": {
    "name": "ipython",
    "version": 3
   },
   "file_extension": ".py",
   "mimetype": "text/x-python",
   "name": "python",
   "nbconvert_exporter": "python",
   "pygments_lexer": "ipython3",
   "version": "3.12.4"
  }
 },
 "nbformat": 4,
 "nbformat_minor": 5
}
